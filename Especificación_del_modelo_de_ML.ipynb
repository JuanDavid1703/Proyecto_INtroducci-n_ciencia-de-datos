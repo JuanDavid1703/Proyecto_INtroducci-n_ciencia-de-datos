{
  "nbformat": 4,
  "nbformat_minor": 0,
  "metadata": {
    "colab": {
      "name": "Especificación del modelo de ML.ipynb",
      "provenance": [],
      "collapsed_sections": [],
      "authorship_tag": "ABX9TyP/5wvd93cdkNJl1PJLYUPH",
      "include_colab_link": true
    },
    "kernelspec": {
      "name": "python3",
      "display_name": "Python 3"
    },
    "language_info": {
      "name": "python"
    }
  },
  "cells": [
    {
      "cell_type": "markdown",
      "metadata": {
        "id": "view-in-github",
        "colab_type": "text"
      },
      "source": [
        "<a href=\"https://colab.research.google.com/github/JuanDavid1703/Proyecto_INtroducci-n_ciencia-de-datos/blob/main/Especificaci%C3%B3n_del_modelo_de_ML.ipynb\" target=\"_parent\"><img src=\"https://colab.research.google.com/assets/colab-badge.svg\" alt=\"Open In Colab\"/></a>"
      ]
    },
    {
      "cell_type": "markdown",
      "metadata": {
        "id": "DAqwaiWZ-hdV"
      },
      "source": [
        "#1. Motivación del proyecto de ML\n",
        "\n",
        "Las especies a menudo se consideran unidades básicas de diversidad biológica en ecología, evolución, biogeografía y biología de la conservación (Jiménez et al 2020); la intervención de la mano del hombre y el cambio climático global está afectando el ecosistema de los páramos en Colombia y en general del territorio suramericano, esto está generando que un familia de plantas que tiene gran predominio en estos terrenos y que  además sirven como medio de tratamiento del agua y retención de minerales en el suelo, que tienen funciones como la evapotranspiración y la retención del carbono orgánico en el suelo,  la espeletia o mayormente conocida como frailejón, esté teniendo una transformación de características debido al cambio de temperaturas en el medio ambiente que se encuentra,  al ser tan dependiente del hábitat en que se encuentra, un cambio en su ecosistema podría tener como consecuencia la extinción de varias especies.\n",
        "\n",
        "La necesidad de distinguir el ecosistema en donde se trabaja genera la necesidad de identificar las diferentes especies que componen el ecosistema, para el estudio de caso, dado el predominio de la espeletia en los páramos, es de gran importancia identificar esas diferentes especies y sus características morfológicas.\n",
        "\n",
        "a. ¿Cuál es el problema específico de ML que se quiere resolver?\n",
        "\n",
        "Se tiene una base de datos compuesta por imágenes de tres especies de freilejón tomadas del páramo del Sumapaz, en mayor porcentaje se encontró (Jiménez et al 2020): \n",
        "* Espeletia Grandiflora\n",
        "* Espeletia Argentea\n",
        "* Espeletia summapacis\n",
        "\n",
        "Se ha realizado una clasificación fenotípica en (Cuatrecasas 1970), pero esa clasificación se ha realizado de una manera manual hechas por especialistas y ellos han usado diferentes características morfológicas de cada especie de freilejón.\n",
        "\n",
        "Unas de las caracteísticas sobresalientes en una planta son la hojas, existens diferentes formas, bordes y tipos de venación, esta parte de la planta permite ayudar a la clasificación de la especie al momento del estudio, la caracterización de las hojas es una componenete que distingue bastante bien una buena cantidad de especies de plantas.\n",
        "\n",
        "El problema de Ml que se quiere resolver es poder automatizar la clasificación de estas especies de frailejones atrás nombradas sin necesidad  \n",
        "\n",
        "es generar una máquina que clasifique las tres diferentes especies de frailejones ya nombradas usando la morfología foliar de la planta.\n",
        "\n",
        "b. ¿Cómo este problema se articula con el problema de analítica formulado?\n",
        "\n",
        "Con los datos obtenidos que fueron las imágenes tomadas, se requiere hacer una estracción de características, para esto se debe hacer un preporcesamiento de cada imagen.\n",
        "La parte funcdamental del proceso es separar las hojas del fondo y separarlas como únicos objetos en una imagen para poder realizar la extracción de las características.\n",
        "\n"
      ]
    },
    {
      "cell_type": "markdown",
      "metadata": {
        "id": "KddSSjVkSQqS"
      },
      "source": [
        "#2. Definición del problema\n",
        "a. ¿Cuál es la salida específica que se va a predecir?\n",
        "\n",
        "La salida específica del ML es la especie de la planta, las opciones son:\n",
        "* Espeletia Grandiflora\n",
        "* Espeletia Argentea\n",
        "* Espeletia summapacis\n",
        "\n",
        "b. ¿Cuáles son los datos de entrada requeridos para el proceso de analítica?\n",
        "Los datos que estrarán al modelo serán 3\n",
        "\n",
        "como segunda etapa sigue la extracción de características, se obtendrán 3 distintos representantes de cada imagen: \n",
        "\n",
        "\n",
        "* Los P-descriptores de Fourier, consisten en los 20 armónicos de menor frecuencia del contorno de cada hoja, los cuales se obtendrán a traves de la transformada discreta de Fourier según (Victorino y Gómez 2016) junto con la razón entre los semiejes.\n",
        "\n",
        "* Momentos de Hu: Caracterizadores de imágenes según \n",
        "Las primeras características a usar serán los armónicos de menor frecuencia para describir las hojas según (Burguer M y W  2009) junto con la razón entre los semiejes.\n",
        "\n",
        "\n",
        "c. Descripción:\n",
        "\n",
        "* Son 314 imágenes, de las cuales ahy un desbalance dado que hay más etiquetas representativas de la especie summapacis y menos de la  grandiflora, sin embargo la diferencia no es muy notoria pero al haber pocos datos quizás haya un sesgo significativo al momento aplicar el algoritmo:\n",
        "\n",
        "![image.png](data:image/png;base64,iVBORw0KGgoAAAANSUhEUgAAAPUAAAEECAYAAADwCHJtAAAftUlEQVR4Ae2dCXwUVZ7Ho+ABSBI0IKIQkHAlnbjieA0e4OiMMzIjMyO74zjrjMe6jKOuyJEEkk4DKjte47WMcoWgDi7jSQKKLgZERCEQglxyGUEOOcMRQghJ7e8furFpOp3q7rrr9z6fX7pSXf3qvV/9v/XqePUqIYGJDtABOkAH6AAdoAN0gA7QATpAB+gAHaADdIAO0AE6QAfoAB2gA3SADtABOmA7B0ahxJNtV2oWmA5Y0IFKlKkGOhyklzHNRAfogE0dqES5b7Zp2VlsOkAHwjhQiXnhoE7D/AXQAWgP9L9QICmYeATaDMl3T0NnQoF0LybWQvuhuVAqFEgZmPgY2gd9D8lhtyQf9LpM+NM1+PwcqoIqoP5QIP0JE7LuQ9A30F0QEx2gA34HKvEZDuoZmD8aEljPha6DAkmgLoXOh7pA66H7IUm3QxuhPlBLKA8SOCW1hXZAwyDJU/6/GpLkg16XCaSLob3QLyBZ/y3+/9vjsw10EOoFSboIkh0FEx2gA34HKvEp59PSIgb0H5ieDk2ELoFCk0B9a9DMBzE9z///B/i8L+g7gfIIlArdCZVD4ZIPMwNQZ2P6tZCFpMX/IyRQSzl/C7WCmOgAHQhxoBL/3xwyT/7tCE2CtkOroXuhQBKog1vH2/C/HG5LWgOF7iRqMO/H0EjoLShc8mFmAOoJmD4KBXYy8lkN5UCSfgZ9DMn82VBviIkO0AG/A5X4DAd1sEFy6C2QpflnhrbUf8b8QEstLepd/uVCP6SlXh460/+/D58BqHMxLTuU5pK01M9CC5tbkN/TATc5UInKhoN6MOYHDr2lVZbW9lJIkkAtELeDOkProAcgSb+GVkGBljwJ05KXpMA59aOYPsf//9XyBZIPCkAtee6EpEVuAcn5d39IynMhJOftbSA5tB8DyQU9JjpAB/wOVOJTgJVD5oDexfRT0Db/vE34DECLyUaoA1e/5YKWtJYCXyD9Oya+guSC1lZoKhRIHkzMg/ZDAm7gkNqH6QDUmGy8gCawylXy3ZAcZstFuYugwFV5OfyeD6VDTHSADsThgLTUaXH8nj+lA3TAYg4QaottEBaHDsTrAKGO10H+ng7QATpAB+gAHaADdIAO0AE6QAfoAB2gA3SADtABOkAH6AAdoAN0gA7QATpAB+gAHaADdIAO0AE6QAfoAB2gA3SADtABOkAH6AAdoAN0gA7QATpAB+gAHaADdIAO0AE6QAfoAB2gA3SADtABOkAH6AAdoAN0gA7QATpAB+gAHXCeAxUVFR1WrFgxC9oMVVpUUrZZUlbnbQHWiA5o7IDAsnPnzg319fXLFEUps6KkbCjjRimrxtVndnTAeQ4AlM1WBjqwk5EySlmdtwVYIzqgsQMApTIAjtU/pawaV5/Z0QHnOUConbdNWSOXOxAKdWp2iaKl1LT+d9xxx5527drVpaWl1URani21y4OV1VfngBWgnjNnzrqFCxeuIdTqthmXogMRHbAC1NI6r1u3biWhjrip+CUdUOcAoVbnE5eiA7ZxgFDbZlOxoHRAnQOEWp1PXIoO2MYBQm2bTcWC0gF1DoRCHemWkl7fDRw4cG9KSsqxFi1aNHTo0OHYc889F7ZDjJRVXa24FB1wsQNWgFrtzoJQuzhQWXX1DhBq9V5xSTpgCwcItS02EwtJB9Q7QKjVe8UlLeCA4muboviS+yvexL8oBW2fUHyJz2HeK/icjs+3lILE2Zhfis8vlYKkrzB/I7Qd/++A1kKLoGKo6HDBheO75JRkp44svqtrTnH/ziPmdE/wlba0QDXjKgKhjss+/lgvBwBuspLftp/iTfpPQPkiQJ0HEL+HFK10xJuyPsyDDkcxbxk0pUt2ycOdR5Rcn+abk6hXPfXIl1Dr4SrzjNoBJT/pCsA6BpoLbdMK3Ej57PJ2LgsDdbgnmhqw3Gbo7S4jZz9yyYjiHlFX0MAfEGoDzeaqfnBA8SWcjRb4VmgCWuGtkeDT67t1+emfqYQ6HOgbU3NKXkrNLf7FJUNntvqhZuZPnQa1hkc3jdtCxRBJ69evr7jqqqsOXnrppTXdu3evGTt27JZwt7mkrOY7xhLE7ICSk9QOEP8BEP8Tnwf1glVtvgvyrpsfB9TBoNfgUP1DOVxPy53TPmaDNPqhFaCurKyskEcvBeR9+/YtT01NPVpWVrYqFGxCrdFGNzIbZVSbCwHwo/6LV3VqgTNiuTfyBmkFdTDgx1Kzi9/qmjP71gSf70wjvQ6sywpQh8J700037X/nnXfWh84n1IGtZoNPxZf0I4D5GlRrBKCxrGP8qAcWadRSB0N9chrn31u6ZpeM6ZrzQVcjN5nVoJbnqjt27Fi7Z8+e5YTayEjQYF04T26JVvl30OexQGb0b4bk5slV7pMQ6jgtF9o+hm7TwOZms7AS1FVVVcvT09Orp02btjEUaPmfLXWzm9OcBZSHE84ByA9ClUaDGc/6fpnzQrhbWnpDvrTLiNkD9dxSVoH66NGjy/r163egoKBgazigCbWeURBj3srwC9so3rbDALN07tDs/rFRefXNfmOPjq1zczuHsi7Zxb+M0fqIP7MC1BjTu2zQoEF77rnnnu+bAppQR9yMxn6pDE5ogR5dQwHfbqMA1Ho9Dd7EOlzQksPi5uDT+/tlnUeW/ErLLXga1CpuQUUCL5bvPvzww3Wok9KjR48jvXr1atSbb765ITQvHn5rueVjzAut8lUArFxryIzO77g3aacFgA7eYSy6JHt2Zoyb5ZSfWQHqUHib+p9Qn7LpjP1H8Z2fCKBfBnz1RgOox/oOe9uvtRjUAngd+qE/1clX3DqerUuo43HPJb9F/+vBAMuQrpt6ABwuzx3e1KUWhPpEy51TUhnP+TahdgmYsVRTGZ2cita5JBwUdp+3yutZaFmo/ef56KH2XvfR73WOdtsR6mgdc8HyjfebvW1HANxqu8PbVPnn5d2gR2+y4HNkraYPp44suS+asCPU0bjlgmWVvMQeeC55RVMwOGV+Yd4ddoG6cefQNXt2kdpzbULtAlDVVhFdO38KaPc7BdxI9Rg76sHPrX74HaZ8q7vkzklvbnsS6uYccsn3jfedfYnHI4HgpO/uz/WVh4FGq0NmPfOpxkW0uyOFZSjUnmkeRUs1dXsqeH51dfUyj8dT3bNnzyPy6OWjjz66Pfj7wLSUNVJd+F0MDpx4rjlpqpOAVVOXW3P+Z5NNoQ7sMKY09Ry3FaCWHmXS71vgle6imZmZh+fNm7c2AHPgk1DHAG2knzQ+FnlizC7bdfFUA26kZbKy36yyOdQCd1n34XM7hG5jK0AdgFY+Dxw4sLxPnz7VhDp0S2n8v5KffDluV22JFPhO/Q5dRGUcskCLZ/fPDanDZ3ULDg+rQF1XV1cmXURbtWpVP2TIkB3BoAem2VIHb7k4pnFB7F8BrGNvVzW3M6rzJm9zENSyU9rebfj7WYGQsArUAXB3795dLkMbLVmyhCOfBDaSlp+4IJbfXNA7/ftD3g6rHQa1gF3VLXv2DRIrVoNa4B42bNi2/Pz80x7BZEsdJ93o7pntdGDV1O87b7cvHQi1gF2TmlP8aytAvW3bthXSQgvQhw4dWta3b99DM2bM4FNacTJ8ys8bx8+24TPPaiCNdpmK/Ms+dSjUAvbxxWXlewKHvs19YtTPveXl5ccwKGCDfO7cuTPs2ymbyyf0+y+++GJ17969j8ijl2lpaTXSUocuI/+zpT4FU/X/4JD7TgS+I56uihbgcMt/mDeg1MFQKx8vWqbsPVS7KRxEVpvnJqilE38ptAZaDf0XFFNCl8+BCGxLjeIZDjQj500a/W8LnAz1R4B65daqhv3Vtacd7hLqmDDS5EcXIZe+/pza4nM91Gz3QP/yJz+U/PNuBCw1RgJjh3V5Rz2y2OlQV2zdr6z8rqr+YM2xdVYDObg8bmqpT4Lpn3gfn7eEzoz0f+MQvRYYMN+KkP8x9/EKJ0M9d1GZsmLLPkXAXv1d1fGa2vrTbiUFg2XWNHqdLQPUmyPFsVO/64qKbYFUv6RN8Z2XDpj2WBEoK5TpJzmvVjoZ6omzFytl6ypPgr1m+4Ha2rr6CrPgDbdeARoX5TYC6llOBbepep2HL5ZBv2lqgdD5eFtkV4DjqFFKtN4RpGf/85CToc70zlEEbGmx5fxa9MniZbXlFRXfyuGuRbRZgK6oqDitm2toTDvp/7NQmbnQY2or5R9/e7nWEDgpP3QRrXYy0M3UbYraWOJy2jtwBrKcDj0fTdboy403SNpv/G0jy3zM225LM4Ev93odq+Ye24wm3rhsdA5ch8UVaCW0wq9f4LPJ5O/P7bqnraLdIVR5O37lZGhV1K1azUALTQYavzDGgRNDEJn/athoATNj+S3e7o6+naUCajkKWXPh8LltjIlOriVqB5QHEs7CYTfPo1WedizL7+vkLqLqTxtyiuX0jsmKDuC9z0+Y0eLZdZ3FebeUqmzN1ANi13PwKEcptWL8O65MaKGvgVwzrpgWO5IJeXexpf5hJ3QolnHFHQeSVSqk+Dq1RpB/rUWguymP3FFDnfrYZYxHFrPftUpMu74cAPElN8GoVV3vzP2r269+nwa/1m/ddD2csRjgH1+sQatAd1M+N+ZM2spz6tPuw3/Lq+GxkKjhb3Ae/ZGbQNSyrr2y3z5CqE+DWpG3bWoYoswqGgcwgslPtAxyN+WFLqIHCHQYoE9cOKvrPKrEE00sclkNHEAXszMA4VI3gahlXWu9539DqJuEGq11yWcahCmziMYBdgWNr1/7Pm9HRz9HrcUOixfNoiEyzmUbXy9bkLhBy5bLbXltzu9hx5finXa1Wgt4I+Qhj/oyGeEAzqX/7DYIta7vl94rHT02WQRQo9ox4EmuXxoR065ehzL8wjYI8B1aB7nb8nsn7+elWgW+w/MpczVwRlQet7Dy3AagHvV9YfTdCx0OY1QtcjNe3GZEbLtyHRjiNwUBfkCPIHdbnsNGjVjSTCBrCYWt8+qaPXuJK4EzotI4l851G3x61XdwztNOfIeWfjuP3OKIA3MYEf+OXAcOvdfrFeRuy7dfTuF2ttQR7lP/8PRW446ia3bJR46EysxK4Vnp69wGnl71RW+yhrTs92oJtXqo4VVDt2GzU81kwHHrVgqSpugV5G7Lt96buI9ARwX0idY6p9jnOLDMqpD/NtYht8GnV32Pei/YSKijhxqefZvg851pFgeOWi+uev9JrwB3Y757vReXE+qYoFZwbv0zR8FlVmVw6L3AjfDpVecN3t6LCHXMUM80iwPHrFfJS+quV3C7Nd9FedfMJ9SxQQ3fajsNK05xDGBmVAS3sR53K3x61Xvm6IGlhDpmqGUQhYfMYMER68TTWGfiVtZWvYLbrfk+O+rezwh1PFCXfOAIwMyohOJNHuBW8PSs98O5uWWEOg6os0tqLhk6s5UZTNh+nQjscXoGt1vzHpTzt3WEOi6ocd96zs9tD5gZFcDoJvPdCp6e9b4qe/r3hDpeqEteNIOJaNfZAj/oBHUJUrR5aLY8zqfPBtRH9AxuN+aNLqL13bJnHSfUcUO9QbNg1ymjh5HvHmg19JVf8upY05KS3/ZaN0Knd53rvUm7CHTcQDd2G70k5/000wBRseKNWOYCFcsZtgiueo/UO8DdmP8Rb8p6Qq0N1F2yS6QxtGwqRclaWql0AK7YjdDpXedd3s7LCLU2UKdmF79lJWZCyzIFM2Sc41zosSBh0vjUOKa3L3Gf3gHuxvzX5afzHnXIs9Jx7OQ2GU+H+jUWYNFwUp+Dhksq+W0y3QicEXVekHcdu4hqB3VDmm9Oooahr0tWrXXJNcpM0TX0QSMC3I3reCNvEKHWDmql84iS66MMb8MWvxZrWgNt8a/xMnxO8E8b/gHYZrgROCPqPH7UA3xCS0OorXyx7EuQ2xkqDyJ4VdC0oZMI7m+MCHA3rmNIbv7yOM4hG2/l8PenXGiT61GWTAK1pGCoK07MMvZvY6eTgsR6NwJnRJ0H5rzIW1oattTYwVn21Txyaf7H0HLoLGg49CZkeML5dJoRwe3WdfTNfmMPW9pTWtp4jz6OJvhKLXU7OACtPPT9BvQ9tAt6HTKlMwq6ht7sVuD0rje6iNbh3moDodYUaiV1+Kxu4IWpKQcwHtn9ege3W/M/7k3aQaA1BloO5XOL5UKz5ZI8cRKqcZh3u9ElRffQJ9wKnd71Puxtv5ZQaw9115HFg4zmRM36JmKhTyHpyyqaDxVCs6DnIcMSzqmn6R3cbs1/hzd1KaHWAeqc4iGGARLFir7AsvLoZSDJif9iSObJ/WvDEoCb7Vbo9K73Kq+Hb7rU9sp340W2rhYd5P9rUJsURK5MyzxJwbe5TszR8S8Ce4newe3W/Ofl3cDeZDpAjQ4or+iIRMxZ34dffgPJIfc0aDN0P9QGehoyLAE4djwpSFT02PEU5t1BqPWB+j3DAIlyRRdhebkwJpIRUExJCObDegQ080xUxo568HOeU2t/Tg1P5fTVkqkdSnUVdEOQDC0oepOdS/j0aaXF1/tyfSsItS5QG3rdSS2Ucqgtwxjth0qhGugTyNCkDE1oRaj1g/rWnAmbCLX2UOP9WusNBUXlygToc6EV/uV74/Md/7RhH2ipMXi/fkHt9ryzst+sItTaQw1P5RqU5dJSf4kE6nP80zIIoeEJ4NW5HT496o8uokcJtC5AK11Gzg48smw4L5FW+C6+TIZ8kHRCeR+aAxmeENC8UKbh0UqDL7Hh3acvWnL9lD7LMgo9eyk9PMgy7TFltYDeiAV/BZ2t9gdaLgeo9+rRUrktzyO+pOpnnu+y4PLC9M2eaR6F0s+DjGkZcjvYkkmufmdBfYNkeEHRTXS72wDUsr47xrbb8ZcJ3UozCzP2EWT9QA7xVobYtlyShze2QgsgufotMvzqN9aZAKgrtQxyt+S17ImUNbdP7LnIU5hxLCTg2ErrfaRS5FknsWu1JF1CTTncDjUCEH7tFhDjrWc9RoiZ+cxFX/Sb0nsFQTasVT5tJ5lZmGnJzidvA64OoYCZ8T8GSVgZb7A7/ffVvqRD419Inf8vhRmVhNk8mIO8l6cZLZd+hBJtg+ZCUsCAMGlsApBLnQ5lrPXbOq7ddw9M6D7fU5heFRRQp7Uc/M5w0CcbS4m6tck96UegAZBc/Q4Ik8YmnFN/FmvQO/V3X4xPWXXbpF6LPNMy6gis4cCq2Wk+aSwl6tYW6Hyibmkdl8Lh9ztOhTOaeh33JR5//dlOi6+Zkr6SIFsS5JOwZxRmPKojEjFn/Rx+OR66FjL5llbbJ6MJfqcte9CXdGDMi6nzL5uWsZUwWxvmwPbBhbLfx0yejj8M3MYK/jTrltbdTgNVTX2+HXf+lj/9PW0BbkkdDAQLP20CdVHmzTqyaf+slfzEK9VA4JRlPh3foeLWSb0XA+bjhNgeEIdup6wpWb2sRN5jKEwkGV5WZWRKW6cA21Q96vDQSuGzFy+6emr66tAA4f+2A/vo4JmDZSw/y6QClCSSTCkoLpZ91xQQdp5fNSZ5f95LXaUL53bCazt4T14YO2XbFXkCjyubwoptVorbWv9nZ3hDy77x8fO/+cMrjefLh08JCL27LzL/8CBq68trtgHLzIIC6pdDwbDj///31wvLb5nc50ucL9cTZoe0zCE7hMyizGwzWbHNuhVv4l/sCLGUubYgsfbVv1288Mqp6WsJsjNBDtmut9kGLDMLqniTfmI3qPeNSd6b/XK30qzCjJ0hG92IQ0CuI6QFNWob9JncJ9VMViKtOy/oy8BwRkGzjJ1UfK072QXqNU9csPF3r/T4FIfYR4wKJK7HMkcAMlCn5ZKcD0gvsuAreMutUEqcV1t6sIQPnupYNmBy76WAuYGQWQYyQ49Y0D30PSuwEloGGbhfuogehBZCk6BvIdNvpuO21mSrtda1vsSjL/2t86dXTE1fT5DdCfIp273QIy+TtFy6ESWSoYGldZYb6B5IoC6EPodMS3hP9SCrQL17bPKuoY1DBKXvOmWjmnQexzJYY4eSMTUj3TRAIqxYHhmbBx2AXoDugyzxtgHF1/48QF1rJtirnkhZP/iVnnK+fJQgWQMkC22H7WDF0qkCpZOBEh6AdkOfQcWQqQnn1R8ZDbUMqfv+0x2X3IAhdS0UQIaeK7LeqnZgr5sKh4qVPxW0TLl/OiVonimTgPoRo6Cu8SUdefb5zgv6FmZsYlCrCmpX72gyp2XeYwoUMa70shh/p/nPcLHsUr2h3jk2eedDJ4bU3UuYCbPqGJjq6ax5wLslQ0C9Vg+wVzyZshZD6n6G8+Va1RuSF8Zc3ToHxYmpF5Ftzz5a62e0glqG1H37mYu+vI5D6hLOOHbQ6O/9kO3BMrMCijd5QLxQVxckHeaQujy0Dmpp49mp1V0+9fL2ZjJh+3Xj9bYtAXVVLGBvH9du+5AJ3Us5pC6B1ghoBe/NMuXFkbYHObQCSkHSpGigXjK+w+qBEzmkrlaBzHx+2CniqvddofHJ/2NwQMlPvrw5qGVI3RnPdFp87ZQ+FQzCH4KQXmjqxeGs6VltYghh/iScA7hn/Xk4sA/5kg6O45C68Zwj8rfqL5pxlJNwcMY6D1D/IRhqDKm79f6/p+EVNBkH2Bpp2hoR8iYgx6H3FbHGL38XxgHl4YRzAPauz/67w8qfT+rJIXWbCDzu4HTawRV65ocJS86K14GbJ/XOYdDqFLTcSUQ+QinyDIw3fvn7MA7gIkUHQF1DsAm2wTGwJkFJOCNMSHKWFg7gPuGrBm/QyHtwtnCO9yejKON+LWKXeTThQMZrGWmAmq+o4c7EqJ3JzrQX00wft68JHJwzG31vJ7K15iG4ETGAI8ORziHHwjVJL0zviA3Kt12wtda1tQbQ37CVNnBHAMPHGLGn5jrce0SA0UJ/Z2BIc1XpM9PPA3AcOJ+ttV6t9WJSZoIDnkLPELak7m1J9dz2uG4j4+EzGe1A/9L+LbFh+c4qttbattZFnplGxzLXF+QAWutb9NxjM2/XHQkczZyaeWlQiHHSDAd4i8t14GnbMgcd6fAWlhkEh1lnrym92qJF/ZatKuGOKwaKPIsSfAlnhgkxzjLDAWzMn8a1QYP21szHlTuH6j6FfXqYEbtcZwQHAOMkAulKIOM/HLfoy+4ihLs7vkp7PS0RUG8h2AQ7yhj4hE9hWXgfgSdqBmCD8oEPnk6obb0P9pncJ9XCIc2iiQOAeniUe2q1AcDlHLazyCzMHExqbOIAoJ5BsHkY3kwMPG2TcGYxxYErXr2iNTYohwt2WMvaDKTRHEl9Mnjm4BakxWYOSM8gBME+DQMhmqDhstbdoWzqXdT7ApuFM4sbcCBjesbPAHU9weahuD8GDnime/oE4oOfNnUAG/PPhJpQIwbq8Iz0rTYNYxY71AH0D88m2K4Gu56DHoRS4YD/AfWTBNuVYDeg/8IfHRDCrEI4B/DqlJcJtsvAxmAa4WKB85ziAAZlB9RFBNsdYONRyqFOCV3WI4IDcn8SLfY/CLbDwS7yjIoQBvzKcQ6gxQbYzxFsR4LdgAujjzkuZlkhdQ4A6mFQA+F2DNw1OOT+rbqtz6Uc6wCC4E5AXUuwbQ/2bs9Uz48dG6isWHQOZEzNuAlQ8wX21u3a2Vy3240cuSS6mHfF0rgmngWwN7LFtleLjccnv7h86uXtXRGkrGT0DsjoKbiA9k+CbROwizwv8n1X0ce5K3+Bq6cPAeyjhNuycO/FNrrdlcHJSsfuAFrsKwD1JoJtObAX4oJY59i3LH/pagcw2EISzrVnEmxLgF2PHe04Dm7gaiS1qzxe7/MbgP0d4TYJ7iLPuszpmTdqt0WZEx2AA41vAsGFGYDNQReMu/V1BH6PxquLz2YQ0gHdHMBzuVci0MrZauveapdkTc/qptuGZMZ0INiBxodC0L8YYB8k3JrDvQXXMX4d7Den6YBhDvT8R88U/4MhvP0V/yH5bnQkyUHr3MawDcgV0YGmHJBbLLhvOhGt9jG23FG33HsEZpw3n9eUv5xPB0xzQF7hgivlrwBsPiDSfMu9Bz7lEmbTwpUrjsaBy4ouuxjjYo3Fofk2ttyntdwbseMbQZijiSguaxkH+pf2b+m/x/0x4Hbzc9vHpBMPTlFu5hsmLROeLEi8DmS8lpEGsJ+G5LCzuUcJnfL9BjyvPhIXvzrE6x9/Twcs6wC6np4lLRYOzWVk061OAxwQf406PZNVmHU9W2XLhiELpqcDeA3MjwDB49BXNgX8OED+FGUfnjUlq5eeXjFvOmA7B6QHFQC5G4BMgKTX2nHIaofix3F+vELKiFtRv+fL5mwXZiywmQ5IRwxcaOsv93HRPfU9gLQeMvJ2maxrDa7kv4HPYfgcIH3gzfSE66YDznPAl3BmelF6F4EduhewPY7zcxnHvBRailZ0HT7libIqKFxLX4P58opfWUZ2EvIe77mNnWcwVra0vjha6Ce35RKwLucZyBrRAZs7cO3Ma1tlTM44HxfoWvPClc03JotPB+gAHaADdCAaB87FwkugCmg1NAZiogN0wMYOnIGyBx7COAvTX0LX2Lg+LDodoANBDrTG9HLo6qB5nKQDdMCGDrRAmVdAh6G/2rD8LDIdoANNOJCM+aWQp4nvOZsO0AEbOuBFmYfbsNwsMh2gA34H5P1V0kJLagUthAbKP0x0gA7Y04EsFLscWgmtgqSlZqIDdIAO0AE6QAfoAB2gA3SADtABOkAH6AAdoAN0gA7QATpAB+gAHaADdIAO0AE6QAfoAB2gA3SADtABOkAH6AAdoAN0gA7QATpAB+gAHaADdIAO0AE6QAfoAB2gA3SADtABOkAH6AAdoAN0gA7QATpAB+gAHbC+A/8PuBS+9/0tQlUAAAAASUVORK5CYII=)\n",
        "\n",
        "\n",
        "d. ¿Cuáles son los factores más relevantes que permitirían predecir la salida?\n",
        "Se espera que los momentos hu y los armónicos de los P-descriptores de Fourier sean suficientes para caracterizar cada hoja de cada especie."
      ]
    },
    {
      "cell_type": "markdown",
      "metadata": {
        "id": "Hr0HGHXW-10o"
      },
      "source": [
        "#Bibliografía\n",
        "\n",
        "* **Leonel Olivares, Jorge Victorino, Francisco Gómez** \"*Automatic Leaf Shape Category Discovery*\", Universidad Central, 2016.\n",
        "\n",
        "* **Pineda Yam, Cortés Andrés, Madriñán Santiago, Jiménez Iván** \"*The Nature of Espeletia Species*\", 2020.\n",
        "\n",
        "* **M. F. Cárdenas Agudelo** \"*Ecohydrology of páramos in Colombia: Vulnerability to climate change and land use*\", Universidad Nacional de Colombia 2016.\n",
        "\n",
        "* **José Cuatrecasas** \"*A systematic study of the subtribe Espeletiinae*\", The New York Botanical Garden Press, 1970.\n",
        "\n",
        "* **Mary Lee Berdugo Lattke, Fabio Gónzalez, J. Orlando Rangel-Ch, Francisco Gómez**  \"*P-type based dimensionality reduction for open contours of Colombian Páramo plant species*\", Universidad 2016.\n",
        "\n",
        "* **Burger W., Burger M.** \"*Principles of digital image processing*\", Springer 2009.\n",
        "\n",
        "* **Victorino J,Gómez F.** \"*Contour analysis for interpretable leaf shape category discovery*\", Universidad Central, 2016.\n",
        "\n",
        "* **Wäldchen J, Mäder P** \"*Plant Species Identifcation Using Computer Vision Techniques: A Systematic Literature Review*\", Springer, 2017."
      ]
    }
  ]
}