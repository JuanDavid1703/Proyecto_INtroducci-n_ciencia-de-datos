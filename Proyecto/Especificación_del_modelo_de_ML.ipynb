{
  "nbformat": 4,
  "nbformat_minor": 0,
  "metadata": {
    "colab": {
      "name": "Especificación del modelo de ML.ipynb",
      "provenance": [],
      "collapsed_sections": []
    },
    "kernelspec": {
      "name": "python3",
      "display_name": "Python 3"
    },
    "language_info": {
      "name": "python"
    }
  },
  "cells": [
    {
      "cell_type": "markdown",
      "metadata": {
        "id": "DAqwaiWZ-hdV"
      },
      "source": [
        "#1. Motivación del proyecto de ML\n",
        "\n",
        "Las especies a menudo se consideran unidades básicas de diversidad biológica en ecología, evolución, biogeografía y biología de la conservación (Jiménez et al 2020); la intervención de la mano del hombre y el cambio climático global está afectando el ecosistema de los páramos en Colombia y en general del territorio suramericano, esto está generando que un familia de plantas que tiene gran predominio en estos terrenos y que  además sirven como medio de tratamiento del agua y retención de minerales en el suelo, que tienen funciones como la evapotranspiración y la retención del carbono orgánico en el suelo,  la espeletia o mayormente conocida como frailejón, esté teniendo una transformación de características debido al cambio de temperaturas en el medio ambiente que se encuentra,  al ser tan dependiente del hábitat en que se encuentra, un cambio en su ecosistema podría tener como consecuencia la extinción de varias especies.\n",
        "\n",
        "La necesidad de distinguir el ecosistema en donde se trabaja genera la necesidad de identificar las diferentes especies que componen el ecosistema, para el estudio de caso, dado el predominio de la espeletia en los páramos, es de gran importancia identificar esas diferentes especies y sus características morfológicas.\n",
        "\n",
        "a. ¿Cuál es el problema específico de ML que se quiere resolver?\n",
        "\n",
        "Se tiene una base de datos compuesta por imágenes de tres especies de freilejón tomadas del páramo del Sumapaz, en mayor porcentaje se encontró (Jiménez et al 2020): \n",
        "* Espeletia Grandiflora\n",
        "* Espeletia Argentea\n",
        "* Espeletia summapacis\n",
        "\n",
        "Se ha realizado una clasificación fenotípica en (Cuatrecasas 1970), pero esa clasificación se ha realizado de una manera manual hechas por especialistas y ellos han usado diferentes características morfológicas de cada especie de freilejón.\n",
        "\n",
        "Unas de las caracteísticas sobresalientes en una planta son la hojas, existens diferentes formas, bordes y tipos de venación, esta parte de la planta permite ayudar a la clasificación de la especie al momento del estudio, la caracterización de las hojas es una componenete que distingue bastante bien una buena cantidad de especies de plantas.\n",
        "\n",
        "El problema de Ml que se quiere resolver es poder automatizar la clasificación de estas especies de frailejones atrás nombradas sin necesidad  \n",
        "\n",
        "es generar una máquina que clasifique las tres diferentes especies de frailejones ya nombradas usando la morfología foliar de la planta.\n",
        "\n",
        "b. ¿Cómo este problema se articula con el problema de analítica formulado?\n",
        "\n",
        "Con los datos obtenidos que fueron las imágenes tomadas, se requiere hacer una estracción de características, para esto se debe hacer un preporcesamiento de cada imagen.\n",
        "La parte funcdamental del proceso es separar las hojas del fondo y separarlas como únicos objetos en una imagen para poder realizar la extracción de las características.\n",
        "\n"
      ]
    },
    {
      "cell_type": "markdown",
      "metadata": {
        "id": "KddSSjVkSQqS"
      },
      "source": [
        "#2. Definición del problema\n",
        "a. ¿Cuál es la salida específica que se va a predecir?\n",
        "\n",
        "La salida específica del ML es la especie de la planta, las opciones son:\n",
        "* Espeletia Grandiflora\n",
        "* Espeletia Argentea\n",
        "* Espeletia summapacis\n",
        "\n",
        "b. ¿Cuáles son los datos de entrada requeridos para el proceso de analítica?\n",
        "Los espacios de careacterísticas serán dos\n",
        "\n",
        "como segunda etapa sigue la extracción de características, se obtendrán 3 distintos representantes de cada imagen: \n",
        "\n",
        "\n",
        "* Los P-descriptores de Fourier, consisten en los 20 armónicos de menor frecuencia del contorno de cada hoja, los cuales se obtendrán a traves de la transformada discreta de Fourier según (Victorino y Gómez 2016) junto con la razón entre los semiejes.\n",
        "\n",
        "* Momentos de Hu: Caracterizadores de imágenes según \n",
        "Las primeras características a usar serán los armónicos de menor frecuencia para describir las hojas según (Burguer M y W  2009) junto con la razón entre los semiejes.\n",
        "\n",
        "\n",
        "c. Descripción:\n",
        "\n",
        "* Son 314 imágenes, de las cuales ahy un desbalance dado que hay más etiquetas representativas de la especie summapacis y menos de la  grandiflora, sin embargo la diferencia no es muy notoria pero al haber pocos datos quizás haya un sesgo significativo al momento aplicar el algoritmo:\n",
        "\n",
        "![image.png](data:image/png;base64,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)\n",
        "\n",
        "\n",
        "d. ¿Cuáles son los factores más relevantes que permitirían predecir la salida?\n",
        "Como las imágenes pueden ser inscritas en una elipse es posible obtener características de las elipses que pueden permitir una buena caracterización, a demás los armónicos de los P-descriptores de Fourier que también son otros descriptores que permiten distinguir los contornos  y se espera que estas características sean suficientes para caracterizar cada hoja de cada especie.\n",
        "\n"
      ]
    },
    {
      "cell_type": "markdown",
      "metadata": {
        "id": "Nu-O-8HG--4B"
      },
      "source": [
        "#3. Medidas de desempeño\n",
        "\n",
        "Como marco experimental o línea base, dado que es una clasificación multiclase, los modelos sugeridos son: vecinos más cercanos, bosques aleatorios y árboles de decisión. Según la literatura son modelos bastante apropiados para problemas de clasificación multiclase (Zhang et al 2016) y (Van del Poel 2008).\n",
        "\n",
        "No hay un documento base para esta claisificación pero si para la extracción de una parte de las características, este documento base utliza, un trabajo base se basa en la agrupación de diferentes especies de Espeletia, solo que en este caso las especies son tomadas de diferentes páramos, entre ellos Sumapaz, Chingaza y otros, así las especies son áun más diversas y hay mayor cantidad de clases (Jiménez 2020). \n",
        "\n",
        "La medida de desempeño que se tomará en cuenta será la precisión dado que la momento de utlizar el algortimo se espera que se obtenga la menor cantidad de errores, sea cual sea la especie\n",
        "\n",
        "$$Precision=\\frac{TruePred}{Pred}$$\n",
        "\n",
        "Teniendo en cuenta que los documentos base realian una agurpación y no una clasificación entonces a partir de características bases de construye características que identifiquen o disitingan entre las tres especies escogidas.\n",
        "\n",
        "El diseño experimental consiste en lo siguiente:\n",
        "\n",
        "Se extraen las siguientes características:\n",
        "\n",
        "* Las cracterísticas bases de contorno y forma elíptica: área, perímetro, medidas del eje mayor y del eje menor y la distancia focal de la figura inscrita en una elipse. \n",
        "\n",
        "A partir de estos anteriores se extrajeron otras medidas de distinción\n",
        "\n",
        "$\\begin{align*}\n",
        "R_{1}=&\\frac{Perimetro}{Area}\\\\\n",
        "R_{2}=&\\frac{Eje_{menor}}{Eje_{mayor}}\\\\\n",
        "R_{3}=&\\frac{Eje_{mayor}}{Perimetro}\\\\\n",
        "R_{4}=&\\frac{Eje_{menor}}{Perimetro}\\\\\n",
        "R_{5}=&\\dfrac{\\sqrt{Eje_{mayor}^2-Eje_{menor}^2}}{Perimetro}\\\\\n",
        "\\end{align*}$\n",
        "\n",
        "\n",
        "Como segunda parte del diseño primero se realiza un análisis de los modelos utilizando el espacio completo, en segunda instancia, del espacio completo se toman todas las posibles parejas, triplas y cuartetos que se puedan conformar a partir de los datos extraidos esto con necesidad de probar con un espacio de baja dimensión para los modelos.\n",
        "\n"
      ]
    },
    {
      "cell_type": "markdown",
      "metadata": {
        "id": "NPoYqwsAKhI_"
      },
      "source": [
        "#4. Partición de los datos\n",
        "\n",
        "Se escoge una partición aletoria con 70% de entrenamiento y 30% de testeo, en este caso se quiere jugar con la toma de características por lo que la partición de los datos no se da en cantidad, sino, en la escogencia de las características para entrenar el modelos después de tomar el 70% de los datos.\n",
        "\n",
        "En principip se entrenan los 4 modelos propuestos con las 5 características para ver que desempeño se obtiene, sin embargo el proceso consiste en realizar agrupación por parejas, triplas y cuartetos para: en primer lugar reducir la dimensión de características y en segundo lugar distinguir que combinación de características explican o reprentan mejor las imágenes. Con cada combinación se entrenan los 4 modelos y se escoge el que tenga mejor precisión.  "
      ]
    },
    {
      "cell_type": "markdown",
      "metadata": {
        "id": "Hr0HGHXW-10o"
      },
      "source": [
        "#Bibliografía\n",
        "\n",
        "* **Pineda Yam, Cortés Andrés, Madriñán Santiago, Jiménez Iván** \"*The Nature of Espeletia Species*\", 2020.\n",
        "\n",
        "* **M. F. Cárdenas Agudelo** \"*Ecohydrology of páramos in Colombia: Vulnerability to climate change and land use*\", Universidad Nacional de Colombia 2016.\n",
        "\n",
        "* **José Cuatrecasas** \"*A systematic study of the subtribe Espeletiinae*\", The New York Botanical Garden Press, 1970.\n",
        "\n",
        "* **Mary Lee Berdugo Lattke, Fabio Gónzalez, J. Orlando Rangel-Ch, Francisco Gómez**  \"*P-type based dimensionality reduction for open contours of Colombian Páramo plant species*\", Universidad 2016.\n",
        "\n",
        "* **Burger W., Burger M.** \"*Principles of digital image processing*\", Springer 2009.\n",
        "\n",
        "* **Victorino J,Gómez F.** \"*Contour analysis for interpretable leaf shape category discovery*\", Universidad Central, 2016.\n",
        "\n",
        "* **Wäldchen J, Mäder P** \"*Plant Species Identifcation Using Computer Vision Techniques: A Systematic Literature Review*\", Springer, 2017.\n",
        "\n",
        "* **Shichao Zhang,Debo Cheng, Ming Zong,Lianli Gao** \"*Self-representation nearest neighbor search for classification*\" University of Electronic Science and Technology of China, Chengdu, China, 2016.\n",
        "\n",
        "* **Van den Poel D.** \"*Random  Forests  formulticlass  classification:   Random  MultiNomial  Logit*\", Department of Marketing at Ghent University, Ghent,Belgium,2008.\n",
        "\n",
        "* **Pineda Yam, Cortés Andrés, Madriñán Santiago,  Jiménez Iván** \"*The  Nature  of  Espeletia  Species*\" ,2020."
      ]
    }
  ]
}